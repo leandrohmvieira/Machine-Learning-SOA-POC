{
  "cells": [
    {
      "cell_type": "markdown",
      "source": [
        "# Projeto PAAS\n",
        "\n",
        "O intuito desta prova de conceito é realizar a disponibilização de um serviço de predição, de um modelo machine learning, através de um Web Service\n",
        "\n",
        "O termo PAAS(prediction as a service) já é consolidado na comunidade de  Data Science, pois o mesmo é necessário para se obter previsões em tempo real.\n",
        "\n",
        "Para esta prova, irei começar tentando estabelecer um Web Service que disponibilizará um modelo de machine learning através da biblioteca Flask.\n",
        "\nO Flask é uma biblioteca ideal, pois oferece a possibilidade da criação de microserviços."
      ],
      "metadata": {}
    },
    {
      "cell_type": "code",
      "source": [
        "#importa as bibliotecas necessárias para o funcionamento do programa\n",
        "\n",
        "import flask\n",
        "import pandas as pd\n"
      ],
      "outputs": [],
      "execution_count": 3,
      "metadata": {
        "collapsed": false,
        "outputHidden": false,
        "inputHidden": false
      }
    },
    {
      "cell_type": "code",
      "source": [],
      "outputs": [],
      "execution_count": null,
      "metadata": {
        "collapsed": false,
        "outputHidden": false,
        "inputHidden": false
      }
    }
  ],
  "metadata": {
    "kernelspec": {
      "name": "python3",
      "language": "python",
      "display_name": "Python 3"
    },
    "kernel_info": {
      "name": "python3"
    },
    "nteract": {
      "version": "0.5.5"
    }
  },
  "nbformat": 4,
  "nbformat_minor": 4
}