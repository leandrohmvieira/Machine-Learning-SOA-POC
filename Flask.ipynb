{
  "cells": [
    {
      "cell_type": "markdown",
      "source": [
        "# Projeto PAAS\n",
        "\n",
        "O intuito desta prova de conceito é realizar a disponibilização de um serviço de predição, de um modelo machine learning, através de um Web Service\n",
        "\n",
        "O termo PAAS(prediction as a service) já é consolidado na comunidade de  Data Science, pois o mesmo é necessário para se obter previsões em tempo real.\n",
        "\n",
        "Para esta prova, irei começar tentando estabelecer um Web Service que disponibilizará um modelo de machine learning através da biblioteca Flask.\n",
        "\nO Flask é uma biblioteca ideal, pois oferece a possibilidade da criação de microserviços com um esforço mínimo"
      ],
      "metadata": {}
    },
    {
      "cell_type": "markdown",
      "source": [
        "## Aplicação mínima\n",
        "\nA aplicação mais simples de um servidor flask consiste do código abaixo"
      ],
      "metadata": {}
    },
    {
      "cell_type": "code",
      "source": [
        "from flask import Flask\n",
        "\n",
        "app = Flask(__name__)\n",
        "\n",
        "@app.route('/')\n",
        "\n",
        "def hello_world():\n",
        "    return 'Hello World!'"
      ],
      "outputs": [],
      "execution_count": null,
      "metadata": {
        "collapsed": false,
        "outputHidden": false,
        "inputHidden": false
      }
    },
    {
      "cell_type": "markdown",
      "source": [
        "**Note que** este código, ao ser executado em um notebook, não inicia o servidor no localhost, mas funciona corretamente quando executado pelo python através do comando `python -m`.\n",
        "\n",
        "Para executar o Flask de dentro de um notebook python adicione o comando abaixo:\n",
        "\n",
        "```\n",
        "if __name__ == \"__main__\":\n",
        "    app.run()\n",
        "```\n",
        "\n",
        "Isso permite que o Flask instancie o servidor corretamente. Veja o exemplo montado corretamente na próxima célula de código.\n",
        "\n",
        "**Obs: Ao instanciar o servidor flask de dentro do .ipynb ou do .py(através do atom), o interpretador python fica em modo `busy` impedindo qualquer execução sequente até que o kernel seja reiniciado.**\n"
      ],
      "metadata": {}
    },
    {
      "cell_type": "code",
      "source": [
        "from flask import Flask\n",
        "\n",
        "app = Flask(__name__)\n",
        "\n",
        "@app.route('/')\n",
        "\n",
        "def hello_world():\n",
        "    return 'Hello World!'\n",
        "\n",
        "if __name__ == \"__main__\":\n",
        "    app.run()"
      ],
      "outputs": [],
      "execution_count": null,
      "metadata": {
        "collapsed": false,
        "outputHidden": false,
        "inputHidden": false
      }
    },
    {
      "cell_type": "markdown",
      "source": [
        "## Comunicação servidor <-> cliente\n",
        "\n",
        "Agora com a estrutura pronta, podemos iniciar a comunicação entre o servidor Flask e os clientes, através de [métodos HTTP](http://lmgtfy.com/?q=http+methods). Como exemplo abaixo, um servidor Flask é instanciado e programado para repetir a mensagem que recebe do cliente, em letras MAIÚSCULAS\n",
        "\n**Obs: a classe flask.request foi importada, ela que consegue capturar os dados enviados pela mensagem do cliente**"
      ],
      "metadata": {}
    },
    {
      "cell_type": "code",
      "source": [
        "from flask import Flask, request\n",
        "\n",
        "app = Flask(__name__)\n",
        "\n",
        "@app.route('/')\n",
        "def hello_world():\n",
        "    return 'Cole o seguinte endereço no seu browse e veja a mágica: localhost:5000/get?msg=magica'\n",
        "\n",
        "@app.route('/get')\n",
        "def replicate():\n",
        "    user_text = request.args.get('msg')\n",
        "    return user_text.upper()\n",
        "\n",
        "if __name__ == \"__main__\":\n",
        "    app.run()"
      ],
      "outputs": [],
      "execution_count": null,
      "metadata": {
        "collapsed": false,
        "outputHidden": false,
        "inputHidden": false
      }
    },
    {
      "cell_type": "markdown",
      "source": [],
      "metadata": {}
    }
  ],
  "metadata": {
    "kernelspec": {
      "name": "python3",
      "language": "python",
      "display_name": "Python 3"
    },
    "kernel_info": {
      "name": "python3"
    },
    "nteract": {
      "version": "0.8.4"
    },
    "language_info": {
      "name": "python",
      "version": "3.6.3",
      "mimetype": "text/x-python",
      "codemirror_mode": {
        "name": "ipython",
        "version": 3
      },
      "pygments_lexer": "ipython3",
      "nbconvert_exporter": "python",
      "file_extension": ".py"
    }
  },
  "nbformat": 4,
  "nbformat_minor": 4
}